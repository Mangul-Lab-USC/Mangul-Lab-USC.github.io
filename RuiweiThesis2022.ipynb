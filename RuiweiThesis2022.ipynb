{
  "cells": [
    {
      "cell_type": "markdown",
      "source": [
        "#**Setup**"
      ],
      "metadata": {
        "id": "w2FakZWoqWvo"
      }
    },
    {
      "cell_type": "markdown",
      "source": [
        "## **Import the data.**"
      ],
      "metadata": {
        "id": "bnbsvofisdPD"
      }
    },
    {
      "cell_type": "code",
      "source": [
        "%%bash\n",
        "wget -nv -O data.csv 'https://drive.google.com/uc?export=download&id=1Kc1YjO_3OECANDBfatXKdk8GZCbL_44p'"
      ],
      "metadata": {
        "id": "kO9ST9WFhVtf",
        "colab": {
          "base_uri": "https://localhost:8080/"
        },
        "outputId": "197bba55-93e6-4120-f047-9b449b243e21"
      },
      "execution_count": 71,
      "outputs": [
        {
          "output_type": "stream",
          "name": "stderr",
          "text": [
            "2022-07-14 19:28:19 URL:https://doc-10-1g-docs.googleusercontent.com/docs/securesc/ha0ro937gcuc7l7deffksulhg5h7mbp1/mpmdu3s7bcoeft7j5ob6th3p31pig05v/1657826850000/06194299299598647526/*/1Kc1YjO_3OECANDBfatXKdk8GZCbL_44p?e=download&uuid=92b5268a-9662-42a3-a3f7-c2f4ac4e4672 [102555/102555] -> \"data.csv\" [1]\n"
          ]
        }
      ]
    },
    {
      "cell_type": "code",
      "source": [
        "import pandas as pd\n",
        "import matplotlib.pyplot as plt\n",
        "import matplotlib.ticker as mtick\n",
        "import numpy as np\n",
        "import pandas as pd"
      ],
      "metadata": {
        "id": "kCQ1q6EpPVYz"
      },
      "execution_count": 72,
      "outputs": []
    },
    {
      "cell_type": "code",
      "source": [
        "df = pd.read_csv('/content/data.csv')\n",
        "df.head()"
      ],
      "metadata": {
        "colab": {
          "base_uri": "https://localhost:8080/",
          "height": 890
        },
        "id": "kXRSPx8uqT57",
        "outputId": "53d21105-ffc5-4f09-9aa7-5e674a6be76b"
      },
      "execution_count": 73,
      "outputs": [
        {
          "output_type": "execute_result",
          "data": {
            "text/plain": [
              "       PMC_ID  PMC_Year         Journal  \\\n",
              "0  PMC5048069      2016  Bioinformatics   \n",
              "1  PMC5254078      2016  Bioinformatics   \n",
              "2  PMC4908329      2016  Bioinformatics   \n",
              "3  PMC4908319      2016  Bioinformatics   \n",
              "4  PMC4920110      2016  Bioinformatics   \n",
              "\n",
              "                                       Article Title Secondary analysis  \\\n",
              "0  PEP_scaffolder: using (homologous) proteins to...                 no   \n",
              "1  FoldAtlas: a repository for genome-wide RNA st...                 no   \n",
              "2  A convex optimization approach for identificat...                yes   \n",
              "3  Privacy-preserving microbiome analysis using s...                yes   \n",
              "4  Phasing for medical sequencing using rare vari...                yes   \n",
              "\n",
              "  Data availability statement (yes/no) Data availability (yes/no)  \\\n",
              "0                                   no                         no   \n",
              "1                                  yes                        yes   \n",
              "2                                  NaN                        NaN   \n",
              "3                                  NaN                        NaN   \n",
              "4                                  NaN                        NaN   \n",
              "\n",
              "  If Data availability = yes, where do they share data? (SRA/GEO/other)  \\\n",
              "0                                                NaN                      \n",
              "1                                                SRA                      \n",
              "2                                                NaN                      \n",
              "3                                                NaN                      \n",
              "4                                                NaN                      \n",
              "\n",
              "  If other database, specifiy which one Code availability statement (Yes/No)  \\\n",
              "0                                   NaN                                  Yes   \n",
              "1                                   NaN                                  Yes   \n",
              "2                                   NaN                                  Yes   \n",
              "3                                   NaN                                  Yes   \n",
              "4                                   NaN                                  Yes   \n",
              "\n",
              "   ... If yes, notebook/Rmd If yes, single/ multiple  \\\n",
              "0  ...           Can't tell               Can't tell   \n",
              "1  ...                  NaN                      NaN   \n",
              "2  ...           Can't tell               Can't tell   \n",
              "3  ...           Can't tell               Can't tell   \n",
              "4  ...           Can't tell               Can't tell   \n",
              "\n",
              "  Summary data (yes/ no/ partial) Number of citations Gender of the PI  \\\n",
              "0                      Can't tell                  11              NaN   \n",
              "1                              No                  12           Female   \n",
              "2                      Can't tell                  12             Male   \n",
              "3                      Can't tell                  18             Male   \n",
              "4                      Can't tell                  19             Male   \n",
              "\n",
              "  Experience of PI/ Last author (Check their profile or webpage to see whether they are an associate/ assistant/ professor/ professor emiretus, etc)  \\\n",
              "0                                Assistant Professor                                                                                                   \n",
              "1                                       Group Leader                                                                                                   \n",
              "2                                         Professor                                                                                                    \n",
              "3                                          Professor                                                                                                   \n",
              "4                                           Director                                                                                                   \n",
              "\n",
              "  PI/ last author's training background - CS/ Bioinformatics/ Other  \\\n",
              "0                                                NaN                  \n",
              "1                                             Other                   \n",
              "2                                                 CS                  \n",
              "3                                                 Cs                  \n",
              "4                                              Other                  \n",
              "\n",
              "  PI (last author's) education level - PhD/PostDoc/ Master's etc  \\\n",
              "0                                                NaN               \n",
              "1                                            PostDoc               \n",
              "2                                                Phd               \n",
              "3                                                Phd               \n",
              "4                                                Phd               \n",
              "\n",
              "  First author's education level  \\\n",
              "0                            NaN   \n",
              "1                            NaN   \n",
              "2                            Phd   \n",
              "3                            NaN   \n",
              "4                            Phd   \n",
              "\n",
              "  First author's training background (CS/ Bioinformatics/ Other)  \n",
              "0                                                NaN              \n",
              "1                                                NaN              \n",
              "2                                                 CS              \n",
              "3                                                NaN              \n",
              "4                             Other Machine Learning              \n",
              "\n",
              "[5 rows x 25 columns]"
            ],
            "text/html": [
              "\n",
              "  <div id=\"df-6e797caf-549b-45a3-9527-49260cecf804\">\n",
              "    <div class=\"colab-df-container\">\n",
              "      <div>\n",
              "<style scoped>\n",
              "    .dataframe tbody tr th:only-of-type {\n",
              "        vertical-align: middle;\n",
              "    }\n",
              "\n",
              "    .dataframe tbody tr th {\n",
              "        vertical-align: top;\n",
              "    }\n",
              "\n",
              "    .dataframe thead th {\n",
              "        text-align: right;\n",
              "    }\n",
              "</style>\n",
              "<table border=\"1\" class=\"dataframe\">\n",
              "  <thead>\n",
              "    <tr style=\"text-align: right;\">\n",
              "      <th></th>\n",
              "      <th>PMC_ID</th>\n",
              "      <th>PMC_Year</th>\n",
              "      <th>Journal</th>\n",
              "      <th>Article Title</th>\n",
              "      <th>Secondary analysis</th>\n",
              "      <th>Data availability statement (yes/no)</th>\n",
              "      <th>Data availability (yes/no)</th>\n",
              "      <th>If Data availability = yes, where do they share data? (SRA/GEO/other)</th>\n",
              "      <th>If other database, specifiy which one</th>\n",
              "      <th>Code availability statement (Yes/No)</th>\n",
              "      <th>...</th>\n",
              "      <th>If yes, notebook/Rmd</th>\n",
              "      <th>If yes, single/ multiple</th>\n",
              "      <th>Summary data (yes/ no/ partial)</th>\n",
              "      <th>Number of citations</th>\n",
              "      <th>Gender of the PI</th>\n",
              "      <th>Experience of PI/ Last author (Check their profile or webpage to see whether they are an associate/ assistant/ professor/ professor emiretus, etc)</th>\n",
              "      <th>PI/ last author's training background - CS/ Bioinformatics/ Other</th>\n",
              "      <th>PI (last author's) education level - PhD/PostDoc/ Master's etc</th>\n",
              "      <th>First author's education level</th>\n",
              "      <th>First author's training background (CS/ Bioinformatics/ Other)</th>\n",
              "    </tr>\n",
              "  </thead>\n",
              "  <tbody>\n",
              "    <tr>\n",
              "      <th>0</th>\n",
              "      <td>PMC5048069</td>\n",
              "      <td>2016</td>\n",
              "      <td>Bioinformatics</td>\n",
              "      <td>PEP_scaffolder: using (homologous) proteins to...</td>\n",
              "      <td>no</td>\n",
              "      <td>no</td>\n",
              "      <td>no</td>\n",
              "      <td>NaN</td>\n",
              "      <td>NaN</td>\n",
              "      <td>Yes</td>\n",
              "      <td>...</td>\n",
              "      <td>Can't tell</td>\n",
              "      <td>Can't tell</td>\n",
              "      <td>Can't tell</td>\n",
              "      <td>11</td>\n",
              "      <td>NaN</td>\n",
              "      <td>Assistant Professor</td>\n",
              "      <td>NaN</td>\n",
              "      <td>NaN</td>\n",
              "      <td>NaN</td>\n",
              "      <td>NaN</td>\n",
              "    </tr>\n",
              "    <tr>\n",
              "      <th>1</th>\n",
              "      <td>PMC5254078</td>\n",
              "      <td>2016</td>\n",
              "      <td>Bioinformatics</td>\n",
              "      <td>FoldAtlas: a repository for genome-wide RNA st...</td>\n",
              "      <td>no</td>\n",
              "      <td>yes</td>\n",
              "      <td>yes</td>\n",
              "      <td>SRA</td>\n",
              "      <td>NaN</td>\n",
              "      <td>Yes</td>\n",
              "      <td>...</td>\n",
              "      <td>NaN</td>\n",
              "      <td>NaN</td>\n",
              "      <td>No</td>\n",
              "      <td>12</td>\n",
              "      <td>Female</td>\n",
              "      <td>Group Leader</td>\n",
              "      <td>Other</td>\n",
              "      <td>PostDoc</td>\n",
              "      <td>NaN</td>\n",
              "      <td>NaN</td>\n",
              "    </tr>\n",
              "    <tr>\n",
              "      <th>2</th>\n",
              "      <td>PMC4908329</td>\n",
              "      <td>2016</td>\n",
              "      <td>Bioinformatics</td>\n",
              "      <td>A convex optimization approach for identificat...</td>\n",
              "      <td>yes</td>\n",
              "      <td>NaN</td>\n",
              "      <td>NaN</td>\n",
              "      <td>NaN</td>\n",
              "      <td>NaN</td>\n",
              "      <td>Yes</td>\n",
              "      <td>...</td>\n",
              "      <td>Can't tell</td>\n",
              "      <td>Can't tell</td>\n",
              "      <td>Can't tell</td>\n",
              "      <td>12</td>\n",
              "      <td>Male</td>\n",
              "      <td>Professor</td>\n",
              "      <td>CS</td>\n",
              "      <td>Phd</td>\n",
              "      <td>Phd</td>\n",
              "      <td>CS</td>\n",
              "    </tr>\n",
              "    <tr>\n",
              "      <th>3</th>\n",
              "      <td>PMC4908319</td>\n",
              "      <td>2016</td>\n",
              "      <td>Bioinformatics</td>\n",
              "      <td>Privacy-preserving microbiome analysis using s...</td>\n",
              "      <td>yes</td>\n",
              "      <td>NaN</td>\n",
              "      <td>NaN</td>\n",
              "      <td>NaN</td>\n",
              "      <td>NaN</td>\n",
              "      <td>Yes</td>\n",
              "      <td>...</td>\n",
              "      <td>Can't tell</td>\n",
              "      <td>Can't tell</td>\n",
              "      <td>Can't tell</td>\n",
              "      <td>18</td>\n",
              "      <td>Male</td>\n",
              "      <td>Professor</td>\n",
              "      <td>Cs</td>\n",
              "      <td>Phd</td>\n",
              "      <td>NaN</td>\n",
              "      <td>NaN</td>\n",
              "    </tr>\n",
              "    <tr>\n",
              "      <th>4</th>\n",
              "      <td>PMC4920110</td>\n",
              "      <td>2016</td>\n",
              "      <td>Bioinformatics</td>\n",
              "      <td>Phasing for medical sequencing using rare vari...</td>\n",
              "      <td>yes</td>\n",
              "      <td>NaN</td>\n",
              "      <td>NaN</td>\n",
              "      <td>NaN</td>\n",
              "      <td>NaN</td>\n",
              "      <td>Yes</td>\n",
              "      <td>...</td>\n",
              "      <td>Can't tell</td>\n",
              "      <td>Can't tell</td>\n",
              "      <td>Can't tell</td>\n",
              "      <td>19</td>\n",
              "      <td>Male</td>\n",
              "      <td>Director</td>\n",
              "      <td>Other</td>\n",
              "      <td>Phd</td>\n",
              "      <td>Phd</td>\n",
              "      <td>Other Machine Learning</td>\n",
              "    </tr>\n",
              "  </tbody>\n",
              "</table>\n",
              "<p>5 rows × 25 columns</p>\n",
              "</div>\n",
              "      <button class=\"colab-df-convert\" onclick=\"convertToInteractive('df-6e797caf-549b-45a3-9527-49260cecf804')\"\n",
              "              title=\"Convert this dataframe to an interactive table.\"\n",
              "              style=\"display:none;\">\n",
              "        \n",
              "  <svg xmlns=\"http://www.w3.org/2000/svg\" height=\"24px\"viewBox=\"0 0 24 24\"\n",
              "       width=\"24px\">\n",
              "    <path d=\"M0 0h24v24H0V0z\" fill=\"none\"/>\n",
              "    <path d=\"M18.56 5.44l.94 2.06.94-2.06 2.06-.94-2.06-.94-.94-2.06-.94 2.06-2.06.94zm-11 1L8.5 8.5l.94-2.06 2.06-.94-2.06-.94L8.5 2.5l-.94 2.06-2.06.94zm10 10l.94 2.06.94-2.06 2.06-.94-2.06-.94-.94-2.06-.94 2.06-2.06.94z\"/><path d=\"M17.41 7.96l-1.37-1.37c-.4-.4-.92-.59-1.43-.59-.52 0-1.04.2-1.43.59L10.3 9.45l-7.72 7.72c-.78.78-.78 2.05 0 2.83L4 21.41c.39.39.9.59 1.41.59.51 0 1.02-.2 1.41-.59l7.78-7.78 2.81-2.81c.8-.78.8-2.07 0-2.86zM5.41 20L4 18.59l7.72-7.72 1.47 1.35L5.41 20z\"/>\n",
              "  </svg>\n",
              "      </button>\n",
              "      \n",
              "  <style>\n",
              "    .colab-df-container {\n",
              "      display:flex;\n",
              "      flex-wrap:wrap;\n",
              "      gap: 12px;\n",
              "    }\n",
              "\n",
              "    .colab-df-convert {\n",
              "      background-color: #E8F0FE;\n",
              "      border: none;\n",
              "      border-radius: 50%;\n",
              "      cursor: pointer;\n",
              "      display: none;\n",
              "      fill: #1967D2;\n",
              "      height: 32px;\n",
              "      padding: 0 0 0 0;\n",
              "      width: 32px;\n",
              "    }\n",
              "\n",
              "    .colab-df-convert:hover {\n",
              "      background-color: #E2EBFA;\n",
              "      box-shadow: 0px 1px 2px rgba(60, 64, 67, 0.3), 0px 1px 3px 1px rgba(60, 64, 67, 0.15);\n",
              "      fill: #174EA6;\n",
              "    }\n",
              "\n",
              "    [theme=dark] .colab-df-convert {\n",
              "      background-color: #3B4455;\n",
              "      fill: #D2E3FC;\n",
              "    }\n",
              "\n",
              "    [theme=dark] .colab-df-convert:hover {\n",
              "      background-color: #434B5C;\n",
              "      box-shadow: 0px 1px 3px 1px rgba(0, 0, 0, 0.15);\n",
              "      filter: drop-shadow(0px 1px 2px rgba(0, 0, 0, 0.3));\n",
              "      fill: #FFFFFF;\n",
              "    }\n",
              "  </style>\n",
              "\n",
              "      <script>\n",
              "        const buttonEl =\n",
              "          document.querySelector('#df-6e797caf-549b-45a3-9527-49260cecf804 button.colab-df-convert');\n",
              "        buttonEl.style.display =\n",
              "          google.colab.kernel.accessAllowed ? 'block' : 'none';\n",
              "\n",
              "        async function convertToInteractive(key) {\n",
              "          const element = document.querySelector('#df-6e797caf-549b-45a3-9527-49260cecf804');\n",
              "          const dataTable =\n",
              "            await google.colab.kernel.invokeFunction('convertToInteractive',\n",
              "                                                     [key], {});\n",
              "          if (!dataTable) return;\n",
              "\n",
              "          const docLinkHtml = 'Like what you see? Visit the ' +\n",
              "            '<a target=\"_blank\" href=https://colab.research.google.com/notebooks/data_table.ipynb>data table notebook</a>'\n",
              "            + ' to learn more about interactive tables.';\n",
              "          element.innerHTML = '';\n",
              "          dataTable['output_type'] = 'display_data';\n",
              "          await google.colab.output.renderOutput(dataTable, element);\n",
              "          const docLink = document.createElement('div');\n",
              "          docLink.innerHTML = docLinkHtml;\n",
              "          element.appendChild(docLink);\n",
              "        }\n",
              "      </script>\n",
              "    </div>\n",
              "  </div>\n",
              "  "
            ]
          },
          "metadata": {},
          "execution_count": 73
        }
      ]
    },
    {
      "cell_type": "markdown",
      "source": [
        "## **Convert Yes, No, etc. to integer values.**"
      ],
      "metadata": {
        "id": "_CVzFX_1sZUZ"
      }
    },
    {
      "cell_type": "code",
      "source": [
        "df_toInts = df\n",
        "conversions = {'yes': 1,\n",
        "               'no': 0,\n",
        "               'No (Available upon request)': 0,\n",
        "               'Yes': 1,\n",
        "               'No': 0,\n",
        "               'No (Link Expired)': 0, \n",
        "               'No (Link expired)': 0,\n",
        "               'No ': 0,\n",
        "               'No (No access on BitBucket)': 0,\n",
        "               'No (Cannot find the code)': 0,\n",
        "               'No (link does Not work)':0,\n",
        "               'No (available upon request)':0,\n",
        "}\n",
        "\n",
        "for key,value in conversions.items():\n",
        "  df_toInts = df_toInts.replace(key, value)\n",
        "\n",
        "df_toInts = df_toInts.fillna(0)"
      ],
      "metadata": {
        "id": "8xIzbz_wsx-K"
      },
      "execution_count": 74,
      "outputs": []
    },
    {
      "cell_type": "markdown",
      "source": [
        "## **Convert journal names to standard format.**"
      ],
      "metadata": {
        "id": "sy_7S8eUM6oT"
      }
    },
    {
      "cell_type": "code",
      "source": [
        "df_toInts\n",
        "conversions = {'BMC_Bioinformatics': 'BMC Bioinformatics',\n",
        "               'Genome_Biol': 'Genome Biology',\n",
        "               'Genome_Med': 'Genome Medicine',\n",
        "               'Nat_Biotechnol': 'Nature Biotechnology',\n",
        "               'Nat_Genet': 'Nature Genetics',\n",
        "               'Nat_Methods': 'Nature Methods',\n",
        "               'Nucleic_Acids_Res': 'Nucleic Acids Research'\n",
        "              }\n",
        "\n",
        "for key,value in conversions.items():\n",
        "  df_toInts = df_toInts.replace(key, value)"
      ],
      "metadata": {
        "id": "d4jQNKmIAlfu"
      },
      "execution_count": 75,
      "outputs": []
    },
    {
      "cell_type": "markdown",
      "source": [
        "##**Covert code repository names to standard format.**"
      ],
      "metadata": {
        "id": "ZIW5GTregRmV"
      }
    },
    {
      "cell_type": "code",
      "source": [
        "df_toInts\n",
        "conversions = {'10xGenomics':'Other',\n",
        "              'BitBucket':'Bitbucket',\n",
        "              'GitHub, Supplementary' : 'GitHub',\n",
        "              'Gitlab':'GitLab',\n",
        "              'Other (BitBucket)':'Bitbucket',\n",
        "              'Other (Bitbucket)':'Bitbucket',\n",
        "              'Other (Sourceforge)':'Other',\n",
        "              'Other (Website)':'Other',\n",
        "              'Other(Sourceforge)':'Other',\n",
        "              'Other(Website)':'Other',\n",
        "              'Other(Website), GitHub':'GitHub',\n",
        "              'Others (Website)':'Other',\n",
        "              'Others(Supplementary)':'Supplementary Code',\n",
        "              'Supplementary':'Supplementary Code',\n",
        "              'Zenodo/GitHub':'GitHub + Zenodo',\n",
        "              'downloadable file':'Other',\n",
        "              'girthub':'GitHub',\n",
        "              'gitlab':'GitLab',\n",
        "              'gitub':'GitHub'}\n",
        "\n",
        "for key,value in conversions.items():\n",
        "  df_toInts = df_toInts.replace(key, value)"
      ],
      "metadata": {
        "id": "D_sEdD4KgWXB"
      },
      "execution_count": 76,
      "outputs": []
    },
    {
      "cell_type": "markdown",
      "source": [
        "**Confirm that DataFrame columns are of the correct data type.**"
      ],
      "metadata": {
        "id": "5dj-eYxRvtFB"
      }
    },
    {
      "cell_type": "code",
      "source": [
        "df_toInts.dtypes"
      ],
      "metadata": {
        "colab": {
          "base_uri": "https://localhost:8080/"
        },
        "id": "j6P8yN6ftARs",
        "outputId": "16c26bea-deba-401e-81ae-20b7a823a298"
      },
      "execution_count": 77,
      "outputs": [
        {
          "output_type": "execute_result",
          "data": {
            "text/plain": [
              "PMC_ID                                                                                                                                                 object\n",
              "PMC_Year                                                                                                                                                int64\n",
              "Journal                                                                                                                                                object\n",
              "Article Title                                                                                                                                          object\n",
              "Secondary analysis                                                                                                                                      int64\n",
              "Data availability statement (yes/no)                                                                                                                  float64\n",
              "Data availability (yes/no)                                                                                                                            float64\n",
              "If Data availability = yes, where do they share data? (SRA/GEO/other)                                                                                  object\n",
              "If other database, specifiy which one                                                                                                                  object\n",
              "Code availability statement (Yes/No)                                                                                                                  float64\n",
              "Code availability (Yes/No (reason))                                                                                                                   float64\n",
              "Code availability (Yes/No)                                                                                                                            float64\n",
              "If Code availability = yes,  What kind of code do they share?                                                                                          object\n",
              "If Code availability = yes, where do they share code (supplementary/ GitHub/ other)                                                                    object\n",
              "If Code availability = yes, do they share the code as notebook or R markdown file (.Rmd)? (yes/no)                                                     object\n",
              "If yes, notebook/Rmd                                                                                                                                   object\n",
              "If yes, single/ multiple                                                                                                                               object\n",
              "Summary data (yes/ no/ partial)                                                                                                                        object\n",
              "Number of citations                                                                                                                                    object\n",
              "Gender of the PI                                                                                                                                       object\n",
              "Experience of PI/ Last author (Check their profile or webpage to see whether they are an associate/ assistant/ professor/ professor emiretus, etc)     object\n",
              "PI/ last author's training background - CS/ Bioinformatics/ Other                                                                                      object\n",
              "PI (last author's) education level - PhD/PostDoc/ Master's etc                                                                                         object\n",
              "First author's education level                                                                                                                         object\n",
              "First author's training background (CS/ Bioinformatics/ Other)                                                                                         object\n",
              "dtype: object"
            ]
          },
          "metadata": {},
          "execution_count": 77
        }
      ]
    },
    {
      "cell_type": "markdown",
      "source": [
        "##**Define helper functions.**"
      ],
      "metadata": {
        "id": "ErpCm6-xxFjg"
      }
    },
    {
      "cell_type": "code",
      "source": [
        "def addSideValueLabel(xList, yList, position, buffer):\n",
        "    for i in range(0, len(xList)):\n",
        "        plt.text(yList[i] + buffer, i, \"{:.2f}%\".format(yList[i]), ha = position)"
      ],
      "metadata": {
        "id": "0Pf1sOx3xH6q"
      },
      "execution_count": 78,
      "outputs": []
    },
    {
      "cell_type": "code",
      "source": [
        "def addTopValueLabel(xList, yList, position, buffer):\n",
        "    for i in range(0, len(xList)):\n",
        "        plt.text(i, yList[i] + buffer, \"{:.2f}%\".format(yList[i]), ha = position)"
      ],
      "metadata": {
        "id": "J5-sqOMCUP4J"
      },
      "execution_count": 79,
      "outputs": []
    },
    {
      "cell_type": "markdown",
      "metadata": {
        "id": "uI5QQIqb3rrR"
      },
      "source": [
        "# **Data availability**"
      ]
    },
    {
      "cell_type": "code",
      "execution_count": 80,
      "metadata": {
        "colab": {
          "base_uri": "https://localhost:8080/",
          "height": 248
        },
        "id": "qMSHz5STbx0t",
        "outputId": "9e200b2a-cd8e-4e54-ed9f-426594265622"
      },
      "outputs": [
        {
          "output_type": "display_data",
          "data": {
            "text/plain": [
              "<Figure size 432x288 with 1 Axes>"
            ],
            "image/png": "[encoded data removed]"
          },
          "metadata": {}
        }
      ],
      "source": [
        "countsAvailable = df_toInts['Data availability (yes/no)'].values.sum()\n",
        "countsTotal = len(df)\n",
        "\n",
        "dataframe = pd.DataFrame({'Name':['Data Available','Data Unavailable'],'':[countsAvailable,countsTotal]})\n",
        "axes = dataframe.groupby(['Name']).sum().plot(kind='pie', y='',autopct='%1.0f%%')\n",
        "axes.get_legend().remove()"
      ]
    },
    {
      "cell_type": "markdown",
      "metadata": {
        "id": "O56ZPkQvor9a"
      },
      "source": [
        "# **Data availability by repository**\n"
      ]
    },
    {
      "cell_type": "markdown",
      "source": [
        "###**Calculate the percent of available data in each repository.**"
      ],
      "metadata": {
        "id": "2WlkPD9SzNsT"
      }
    },
    {
      "cell_type": "code",
      "source": [
        "data_repositoryColumn = df_toInts['If Data availability = yes, where do they share data? (SRA/GEO/other)']\n",
        "allRepositories = data_repositoryColumn.values.tolist()\n",
        "\n",
        "# Remove NaN/0's \n",
        "allRepositories = list(filter(lambda allRepositories: allRepositories != 0, allRepositories))\n",
        "uniqueRepositories = set(allRepositories)\n",
        "totalAvailableData = len(allRepositories)\n",
        "\n",
        "percentAvailable = {}\n",
        "for repo in uniqueRepositories:\n",
        "  percentAvailable[repo] = allRepositories.count(repo)/totalAvailableData * 100\n",
        "\n",
        "data={'Data Repository':percentAvailable.keys(),'Percentage':percentAvailable.values()}\n",
        "dataframe=pd.DataFrame(data=data)\n",
        "dataframe"
      ],
      "metadata": {
        "colab": {
          "base_uri": "https://localhost:8080/",
          "height": 143
        },
        "id": "qq0nsWMkzNM-",
        "outputId": "0b0bde54-4c35-47a8-8795-4a5668c22a83"
      },
      "execution_count": 81,
      "outputs": [
        {
          "output_type": "execute_result",
          "data": {
            "text/plain": [
              "  Data Repository  Percentage\n",
              "0             GEO   40.206186\n",
              "1             SRA   11.340206\n",
              "2           other   48.453608"
            ],
            "text/html": [
              "\n",
              "  <div id=\"df-e7c3b559-6a4b-4c4f-b19c-2c1fa6787995\">\n",
              "    <div class=\"colab-df-container\">\n",
              "      <div>\n",
              "<style scoped>\n",
              "    .dataframe tbody tr th:only-of-type {\n",
              "        vertical-align: middle;\n",
              "    }\n",
              "\n",
              "    .dataframe tbody tr th {\n",
              "        vertical-align: top;\n",
              "    }\n",
              "\n",
              "    .dataframe thead th {\n",
              "        text-align: right;\n",
              "    }\n",
              "</style>\n",
              "<table border=\"1\" class=\"dataframe\">\n",
              "  <thead>\n",
              "    <tr style=\"text-align: right;\">\n",
              "      <th></th>\n",
              "      <th>Data Repository</th>\n",
              "      <th>Percentage</th>\n",
              "    </tr>\n",
              "  </thead>\n",
              "  <tbody>\n",
              "    <tr>\n",
              "      <th>0</th>\n",
              "      <td>GEO</td>\n",
              "      <td>40.206186</td>\n",
              "    </tr>\n",
              "    <tr>\n",
              "      <th>1</th>\n",
              "      <td>SRA</td>\n",
              "      <td>11.340206</td>\n",
              "    </tr>\n",
              "    <tr>\n",
              "      <th>2</th>\n",
              "      <td>other</td>\n",
              "      <td>48.453608</td>\n",
              "    </tr>\n",
              "  </tbody>\n",
              "</table>\n",
              "</div>\n",
              "      <button class=\"colab-df-convert\" onclick=\"convertToInteractive('df-e7c3b559-6a4b-4c4f-b19c-2c1fa6787995')\"\n",
              "              title=\"Convert this dataframe to an interactive table.\"\n",
              "              style=\"display:none;\">\n",
              "        \n",
              "  <svg xmlns=\"http://www.w3.org/2000/svg\" height=\"24px\"viewBox=\"0 0 24 24\"\n",
              "       width=\"24px\">\n",
              "    <path d=\"M0 0h24v24H0V0z\" fill=\"none\"/>\n",
              "    <path d=\"M18.56 5.44l.94 2.06.94-2.06 2.06-.94-2.06-.94-.94-2.06-.94 2.06-2.06.94zm-11 1L8.5 8.5l.94-2.06 2.06-.94-2.06-.94L8.5 2.5l-.94 2.06-2.06.94zm10 10l.94 2.06.94-2.06 2.06-.94-2.06-.94-.94-2.06-.94 2.06-2.06.94z\"/><path d=\"M17.41 7.96l-1.37-1.37c-.4-.4-.92-.59-1.43-.59-.52 0-1.04.2-1.43.59L10.3 9.45l-7.72 7.72c-.78.78-.78 2.05 0 2.83L4 21.41c.39.39.9.59 1.41.59.51 0 1.02-.2 1.41-.59l7.78-7.78 2.81-2.81c.8-.78.8-2.07 0-2.86zM5.41 20L4 18.59l7.72-7.72 1.47 1.35L5.41 20z\"/>\n",
              "  </svg>\n",
              "      </button>\n",
              "      \n",
              "  <style>\n",
              "    .colab-df-container {\n",
              "      display:flex;\n",
              "      flex-wrap:wrap;\n",
              "      gap: 12px;\n",
              "    }\n",
              "\n",
              "    .colab-df-convert {\n",
              "      background-color: #E8F0FE;\n",
              "      border: none;\n",
              "      border-radius: 50%;\n",
              "      cursor: pointer;\n",
              "      display: none;\n",
              "      fill: #1967D2;\n",
              "      height: 32px;\n",
              "      padding: 0 0 0 0;\n",
              "      width: 32px;\n",
              "    }\n",
              "\n",
              "    .colab-df-convert:hover {\n",
              "      background-color: #E2EBFA;\n",
              "      box-shadow: 0px 1px 2px rgba(60, 64, 67, 0.3), 0px 1px 3px 1px rgba(60, 64, 67, 0.15);\n",
              "      fill: #174EA6;\n",
              "    }\n",
              "\n",
              "    [theme=dark] .colab-df-convert {\n",
              "      background-color: #3B4455;\n",
              "      fill: #D2E3FC;\n",
              "    }\n",
              "\n",
              "    [theme=dark] .colab-df-convert:hover {\n",
              "      background-color: #434B5C;\n",
              "      box-shadow: 0px 1px 3px 1px rgba(0, 0, 0, 0.15);\n",
              "      filter: drop-shadow(0px 1px 2px rgba(0, 0, 0, 0.3));\n",
              "      fill: #FFFFFF;\n",
              "    }\n",
              "  </style>\n",
              "\n",
              "      <script>\n",
              "        const buttonEl =\n",
              "          document.querySelector('#df-e7c3b559-6a4b-4c4f-b19c-2c1fa6787995 button.colab-df-convert');\n",
              "        buttonEl.style.display =\n",
              "          google.colab.kernel.accessAllowed ? 'block' : 'none';\n",
              "\n",
              "        async function convertToInteractive(key) {\n",
              "          const element = document.querySelector('#df-e7c3b559-6a4b-4c4f-b19c-2c1fa6787995');\n",
              "          const dataTable =\n",
              "            await google.colab.kernel.invokeFunction('convertToInteractive',\n",
              "                                                     [key], {});\n",
              "          if (!dataTable) return;\n",
              "\n",
              "          const docLinkHtml = 'Like what you see? Visit the ' +\n",
              "            '<a target=\"_blank\" href=https://colab.research.google.com/notebooks/data_table.ipynb>data table notebook</a>'\n",
              "            + ' to learn more about interactive tables.';\n",
              "          element.innerHTML = '';\n",
              "          dataTable['output_type'] = 'display_data';\n",
              "          await google.colab.output.renderOutput(dataTable, element);\n",
              "          const docLink = document.createElement('div');\n",
              "          docLink.innerHTML = docLinkHtml;\n",
              "          element.appendChild(docLink);\n",
              "        }\n",
              "      </script>\n",
              "    </div>\n",
              "  </div>\n",
              "  "
            ]
          },
          "metadata": {},
          "execution_count": 81
        }
      ]
    },
    {
      "cell_type": "markdown",
      "source": [
        "###**Plot the data.**"
      ],
      "metadata": {
        "id": "DeTNMXo5NkhD"
      }
    },
    {
      "cell_type": "code",
      "execution_count": 82,
      "metadata": {
        "colab": {
          "base_uri": "https://localhost:8080/",
          "height": 279
        },
        "id": "pJ71jaxoozVL",
        "outputId": "4ac7d286-2199-4d0e-b351-96cce53b65ba"
      },
      "outputs": [
        {
          "output_type": "display_data",
          "data": {
            "text/plain": [
              "<Figure size 432x288 with 1 Axes>"
            ],
            "image/png": "[encoded data removed]"
          },
          "metadata": {
            "needs_background": "light"
          }
        }
      ],
      "source": [
        "axes= dataframe.plot.barh(color='orange',x='Data Repository',y='Percentage')\n",
        "axes.set_xlabel('Percent of total available data')\n",
        "\n",
        "axes.get_legend().remove()\n",
        "axes.spines['right'].set_visible(False)\n",
        "axes.spines['top'].set_visible(False)\n",
        "\n",
        "plt.gca().xaxis.set_major_formatter(mtick.PercentFormatter(xmax=100, decimals = 0))\n",
        "\n",
        "addSideValueLabel(list(percentAvailable.keys()), list(percentAvailable.values()), \"left\", buffer = 1)"
      ]
    },
    {
      "cell_type": "markdown",
      "metadata": {
        "id": "EQPHKSnMzOHY"
      },
      "source": [
        "# **Data sharing by journal**"
      ]
    },
    {
      "cell_type": "markdown",
      "source": [
        "###**Calculate the percent of articles with data shared for each journal.**"
      ],
      "metadata": {
        "id": "yfHiZLQMNsng"
      }
    },
    {
      "cell_type": "code",
      "source": [
        "dfGroupedJournals = df_toInts[['Journal','Data availability (yes/no)']]\n",
        "dfGroupedJournals = dfGroupedJournals.groupby('Journal').mean()\n",
        "dfGroupedJournals['Data availability (yes/no)'] = [n * 100 for n in dfGroupedJournals['Data availability (yes/no)']]\n",
        "dfGroupedJournals = dfGroupedJournals.reset_index()\n",
        "dfGroupedJournals"
      ],
      "metadata": {
        "colab": {
          "base_uri": "https://localhost:8080/",
          "height": 300
        },
        "id": "fWicDMqy_XY8",
        "outputId": "2a97018c-fe15-4109-a860-74259eb98e75"
      },
      "execution_count": 83,
      "outputs": [
        {
          "output_type": "execute_result",
          "data": {
            "text/plain": [
              "                  Journal  Data availability (yes/no)\n",
              "0      BMC Bioinformatics                    3.333333\n",
              "1          Bioinformatics                    5.000000\n",
              "2          Genome Biology                   28.333333\n",
              "3         Genome Medicine                   20.000000\n",
              "4    Nature Biotechnology                   28.333333\n",
              "5         Nature Genetics                   30.000000\n",
              "6          Nature Methods                   25.000000\n",
              "7  Nucleic Acids Research                   21.666667"
            ],
            "text/html": [
              "\n",
              "  <div id=\"df-d40a6adf-5552-40cd-9a64-6a10c111e776\">\n",
              "    <div class=\"colab-df-container\">\n",
              "      <div>\n",
              "<style scoped>\n",
              "    .dataframe tbody tr th:only-of-type {\n",
              "        vertical-align: middle;\n",
              "    }\n",
              "\n",
              "    .dataframe tbody tr th {\n",
              "        vertical-align: top;\n",
              "    }\n",
              "\n",
              "    .dataframe thead th {\n",
              "        text-align: right;\n",
              "    }\n",
              "</style>\n",
              "<table border=\"1\" class=\"dataframe\">\n",
              "  <thead>\n",
              "    <tr style=\"text-align: right;\">\n",
              "      <th></th>\n",
              "      <th>Journal</th>\n",
              "      <th>Data availability (yes/no)</th>\n",
              "    </tr>\n",
              "  </thead>\n",
              "  <tbody>\n",
              "    <tr>\n",
              "      <th>0</th>\n",
              "      <td>BMC Bioinformatics</td>\n",
              "      <td>3.333333</td>\n",
              "    </tr>\n",
              "    <tr>\n",
              "      <th>1</th>\n",
              "      <td>Bioinformatics</td>\n",
              "      <td>5.000000</td>\n",
              "    </tr>\n",
              "    <tr>\n",
              "      <th>2</th>\n",
              "      <td>Genome Biology</td>\n",
              "      <td>28.333333</td>\n",
              "    </tr>\n",
              "    <tr>\n",
              "      <th>3</th>\n",
              "      <td>Genome Medicine</td>\n",
              "      <td>20.000000</td>\n",
              "    </tr>\n",
              "    <tr>\n",
              "      <th>4</th>\n",
              "      <td>Nature Biotechnology</td>\n",
              "      <td>28.333333</td>\n",
              "    </tr>\n",
              "    <tr>\n",
              "      <th>5</th>\n",
              "      <td>Nature Genetics</td>\n",
              "      <td>30.000000</td>\n",
              "    </tr>\n",
              "    <tr>\n",
              "      <th>6</th>\n",
              "      <td>Nature Methods</td>\n",
              "      <td>25.000000</td>\n",
              "    </tr>\n",
              "    <tr>\n",
              "      <th>7</th>\n",
              "      <td>Nucleic Acids Research</td>\n",
              "      <td>21.666667</td>\n",
              "    </tr>\n",
              "  </tbody>\n",
              "</table>\n",
              "</div>\n",
              "      <button class=\"colab-df-convert\" onclick=\"convertToInteractive('df-d40a6adf-5552-40cd-9a64-6a10c111e776')\"\n",
              "              title=\"Convert this dataframe to an interactive table.\"\n",
              "              style=\"display:none;\">\n",
              "        \n",
              "  <svg xmlns=\"http://www.w3.org/2000/svg\" height=\"24px\"viewBox=\"0 0 24 24\"\n",
              "       width=\"24px\">\n",
              "    <path d=\"M0 0h24v24H0V0z\" fill=\"none\"/>\n",
              "    <path d=\"M18.56 5.44l.94 2.06.94-2.06 2.06-.94-2.06-.94-.94-2.06-.94 2.06-2.06.94zm-11 1L8.5 8.5l.94-2.06 2.06-.94-2.06-.94L8.5 2.5l-.94 2.06-2.06.94zm10 10l.94 2.06.94-2.06 2.06-.94-2.06-.94-.94-2.06-.94 2.06-2.06.94z\"/><path d=\"M17.41 7.96l-1.37-1.37c-.4-.4-.92-.59-1.43-.59-.52 0-1.04.2-1.43.59L10.3 9.45l-7.72 7.72c-.78.78-.78 2.05 0 2.83L4 21.41c.39.39.9.59 1.41.59.51 0 1.02-.2 1.41-.59l7.78-7.78 2.81-2.81c.8-.78.8-2.07 0-2.86zM5.41 20L4 18.59l7.72-7.72 1.47 1.35L5.41 20z\"/>\n",
              "  </svg>\n",
              "      </button>\n",
              "      \n",
              "  <style>\n",
              "    .colab-df-container {\n",
              "      display:flex;\n",
              "      flex-wrap:wrap;\n",
              "      gap: 12px;\n",
              "    }\n",
              "\n",
              "    .colab-df-convert {\n",
              "      background-color: #E8F0FE;\n",
              "      border: none;\n",
              "      border-radius: 50%;\n",
              "      cursor: pointer;\n",
              "      display: none;\n",
              "      fill: #1967D2;\n",
              "      height: 32px;\n",
              "      padding: 0 0 0 0;\n",
              "      width: 32px;\n",
              "    }\n",
              "\n",
              "    .colab-df-convert:hover {\n",
              "      background-color: #E2EBFA;\n",
              "      box-shadow: 0px 1px 2px rgba(60, 64, 67, 0.3), 0px 1px 3px 1px rgba(60, 64, 67, 0.15);\n",
              "      fill: #174EA6;\n",
              "    }\n",
              "\n",
              "    [theme=dark] .colab-df-convert {\n",
              "      background-color: #3B4455;\n",
              "      fill: #D2E3FC;\n",
              "    }\n",
              "\n",
              "    [theme=dark] .colab-df-convert:hover {\n",
              "      background-color: #434B5C;\n",
              "      box-shadow: 0px 1px 3px 1px rgba(0, 0, 0, 0.15);\n",
              "      filter: drop-shadow(0px 1px 2px rgba(0, 0, 0, 0.3));\n",
              "      fill: #FFFFFF;\n",
              "    }\n",
              "  </style>\n",
              "\n",
              "      <script>\n",
              "        const buttonEl =\n",
              "          document.querySelector('#df-d40a6adf-5552-40cd-9a64-6a10c111e776 button.colab-df-convert');\n",
              "        buttonEl.style.display =\n",
              "          google.colab.kernel.accessAllowed ? 'block' : 'none';\n",
              "\n",
              "        async function convertToInteractive(key) {\n",
              "          const element = document.querySelector('#df-d40a6adf-5552-40cd-9a64-6a10c111e776');\n",
              "          const dataTable =\n",
              "            await google.colab.kernel.invokeFunction('convertToInteractive',\n",
              "                                                     [key], {});\n",
              "          if (!dataTable) return;\n",
              "\n",
              "          const docLinkHtml = 'Like what you see? Visit the ' +\n",
              "            '<a target=\"_blank\" href=https://colab.research.google.com/notebooks/data_table.ipynb>data table notebook</a>'\n",
              "            + ' to learn more about interactive tables.';\n",
              "          element.innerHTML = '';\n",
              "          dataTable['output_type'] = 'display_data';\n",
              "          await google.colab.output.renderOutput(dataTable, element);\n",
              "          const docLink = document.createElement('div');\n",
              "          docLink.innerHTML = docLinkHtml;\n",
              "          element.appendChild(docLink);\n",
              "        }\n",
              "      </script>\n",
              "    </div>\n",
              "  </div>\n",
              "  "
            ]
          },
          "metadata": {},
          "execution_count": 83
        }
      ]
    },
    {
      "cell_type": "markdown",
      "source": [
        "###**Plot the data.**"
      ],
      "metadata": {
        "id": "_pnUeq3-N1lE"
      }
    },
    {
      "cell_type": "code",
      "execution_count": 84,
      "metadata": {
        "id": "Td1owaeozYFR",
        "colab": {
          "base_uri": "https://localhost:8080/",
          "height": 279
        },
        "outputId": "7879f0b7-6bb8-47da-d941-d7fa64e8e12b"
      },
      "outputs": [
        {
          "output_type": "display_data",
          "data": {
            "text/plain": [
              "<Figure size 432x288 with 1 Axes>"
            ],
            "image/png": "[encoded data removed]"
          },
          "metadata": {
            "needs_background": "light"
          }
        }
      ],
      "source": [
        "axes = dfGroupedJournals.plot(kind='barh', ylabel='Journal')\n",
        "\n",
        "axes.get_legend().remove()\n",
        "axes.spines['right'].set_visible(False)\n",
        "axes.spines['top'].set_visible(False)\n",
        "axes.set_yticklabels(dfGroupedJournals['Journal'])\n",
        "\n",
        "plt.xlabel('Percent of articles with data shared')\n",
        "plt.gca().xaxis.set_major_formatter(mtick.PercentFormatter(xmax=100, decimals = 0))\n",
        "\n",
        "addSideValueLabel(list(dfGroupedJournals['Journal']), list(dfGroupedJournals['Data availability (yes/no)']), \"left\", buffer=0.25 )"
      ]
    },
    {
      "cell_type": "markdown",
      "metadata": {
        "id": "rRzBow204kOC"
      },
      "source": [
        "# **Yearly trend of sharing data**"
      ]
    },
    {
      "cell_type": "markdown",
      "source": [
        "###**Calculate the percent of journal articles that included published data, by year.**"
      ],
      "metadata": {
        "id": "xc7cyZv4P4ml"
      }
    },
    {
      "cell_type": "code",
      "source": [
        "dfDataSharingTrend = df_toInts[['PMC_Year','Data availability (yes/no)']]\n",
        "dfDataSharingTrend = dfDataSharingTrend.groupby('PMC_Year').mean()\n",
        "dfDataSharingTrend['Data availability (yes/no)'] = [n * 100 for n in dfDataSharingTrend['Data availability (yes/no)']]\n",
        "dfDataSharingTrend = dfDataSharingTrend.reset_index()\n",
        "dfDataSharingTrend"
      ],
      "metadata": {
        "colab": {
          "base_uri": "https://localhost:8080/",
          "height": 238
        },
        "id": "t4xgK8n2N-0V",
        "outputId": "c1c7997d-8b88-4d19-c1fb-d974d4fd442b"
      },
      "execution_count": 85,
      "outputs": [
        {
          "output_type": "execute_result",
          "data": {
            "text/plain": [
              "   PMC_Year  Data availability (yes/no)\n",
              "0      2016                       22.50\n",
              "1      2017                       32.50\n",
              "2      2018                       25.00\n",
              "3      2019                        7.50\n",
              "4      2020                       16.25\n",
              "5      2021                       17.50"
            ],
            "text/html": [
              "\n",
              "  <div id=\"df-0a678a32-1291-4de3-be3a-f24899278dab\">\n",
              "    <div class=\"colab-df-container\">\n",
              "      <div>\n",
              "<style scoped>\n",
              "    .dataframe tbody tr th:only-of-type {\n",
              "        vertical-align: middle;\n",
              "    }\n",
              "\n",
              "    .dataframe tbody tr th {\n",
              "        vertical-align: top;\n",
              "    }\n",
              "\n",
              "    .dataframe thead th {\n",
              "        text-align: right;\n",
              "    }\n",
              "</style>\n",
              "<table border=\"1\" class=\"dataframe\">\n",
              "  <thead>\n",
              "    <tr style=\"text-align: right;\">\n",
              "      <th></th>\n",
              "      <th>PMC_Year</th>\n",
              "      <th>Data availability (yes/no)</th>\n",
              "    </tr>\n",
              "  </thead>\n",
              "  <tbody>\n",
              "    <tr>\n",
              "      <th>0</th>\n",
              "      <td>2016</td>\n",
              "      <td>22.50</td>\n",
              "    </tr>\n",
              "    <tr>\n",
              "      <th>1</th>\n",
              "      <td>2017</td>\n",
              "      <td>32.50</td>\n",
              "    </tr>\n",
              "    <tr>\n",
              "      <th>2</th>\n",
              "      <td>2018</td>\n",
              "      <td>25.00</td>\n",
              "    </tr>\n",
              "    <tr>\n",
              "      <th>3</th>\n",
              "      <td>2019</td>\n",
              "      <td>7.50</td>\n",
              "    </tr>\n",
              "    <tr>\n",
              "      <th>4</th>\n",
              "      <td>2020</td>\n",
              "      <td>16.25</td>\n",
              "    </tr>\n",
              "    <tr>\n",
              "      <th>5</th>\n",
              "      <td>2021</td>\n",
              "      <td>17.50</td>\n",
              "    </tr>\n",
              "  </tbody>\n",
              "</table>\n",
              "</div>\n",
              "      <button class=\"colab-df-convert\" onclick=\"convertToInteractive('df-0a678a32-1291-4de3-be3a-f24899278dab')\"\n",
              "              title=\"Convert this dataframe to an interactive table.\"\n",
              "              style=\"display:none;\">\n",
              "        \n",
              "  <svg xmlns=\"http://www.w3.org/2000/svg\" height=\"24px\"viewBox=\"0 0 24 24\"\n",
              "       width=\"24px\">\n",
              "    <path d=\"M0 0h24v24H0V0z\" fill=\"none\"/>\n",
              "    <path d=\"M18.56 5.44l.94 2.06.94-2.06 2.06-.94-2.06-.94-.94-2.06-.94 2.06-2.06.94zm-11 1L8.5 8.5l.94-2.06 2.06-.94-2.06-.94L8.5 2.5l-.94 2.06-2.06.94zm10 10l.94 2.06.94-2.06 2.06-.94-2.06-.94-.94-2.06-.94 2.06-2.06.94z\"/><path d=\"M17.41 7.96l-1.37-1.37c-.4-.4-.92-.59-1.43-.59-.52 0-1.04.2-1.43.59L10.3 9.45l-7.72 7.72c-.78.78-.78 2.05 0 2.83L4 21.41c.39.39.9.59 1.41.59.51 0 1.02-.2 1.41-.59l7.78-7.78 2.81-2.81c.8-.78.8-2.07 0-2.86zM5.41 20L4 18.59l7.72-7.72 1.47 1.35L5.41 20z\"/>\n",
              "  </svg>\n",
              "      </button>\n",
              "      \n",
              "  <style>\n",
              "    .colab-df-container {\n",
              "      display:flex;\n",
              "      flex-wrap:wrap;\n",
              "      gap: 12px;\n",
              "    }\n",
              "\n",
              "    .colab-df-convert {\n",
              "      background-color: #E8F0FE;\n",
              "      border: none;\n",
              "      border-radius: 50%;\n",
              "      cursor: pointer;\n",
              "      display: none;\n",
              "      fill: #1967D2;\n",
              "      height: 32px;\n",
              "      padding: 0 0 0 0;\n",
              "      width: 32px;\n",
              "    }\n",
              "\n",
              "    .colab-df-convert:hover {\n",
              "      background-color: #E2EBFA;\n",
              "      box-shadow: 0px 1px 2px rgba(60, 64, 67, 0.3), 0px 1px 3px 1px rgba(60, 64, 67, 0.15);\n",
              "      fill: #174EA6;\n",
              "    }\n",
              "\n",
              "    [theme=dark] .colab-df-convert {\n",
              "      background-color: #3B4455;\n",
              "      fill: #D2E3FC;\n",
              "    }\n",
              "\n",
              "    [theme=dark] .colab-df-convert:hover {\n",
              "      background-color: #434B5C;\n",
              "      box-shadow: 0px 1px 3px 1px rgba(0, 0, 0, 0.15);\n",
              "      filter: drop-shadow(0px 1px 2px rgba(0, 0, 0, 0.3));\n",
              "      fill: #FFFFFF;\n",
              "    }\n",
              "  </style>\n",
              "\n",
              "      <script>\n",
              "        const buttonEl =\n",
              "          document.querySelector('#df-0a678a32-1291-4de3-be3a-f24899278dab button.colab-df-convert');\n",
              "        buttonEl.style.display =\n",
              "          google.colab.kernel.accessAllowed ? 'block' : 'none';\n",
              "\n",
              "        async function convertToInteractive(key) {\n",
              "          const element = document.querySelector('#df-0a678a32-1291-4de3-be3a-f24899278dab');\n",
              "          const dataTable =\n",
              "            await google.colab.kernel.invokeFunction('convertToInteractive',\n",
              "                                                     [key], {});\n",
              "          if (!dataTable) return;\n",
              "\n",
              "          const docLinkHtml = 'Like what you see? Visit the ' +\n",
              "            '<a target=\"_blank\" href=https://colab.research.google.com/notebooks/data_table.ipynb>data table notebook</a>'\n",
              "            + ' to learn more about interactive tables.';\n",
              "          element.innerHTML = '';\n",
              "          dataTable['output_type'] = 'display_data';\n",
              "          await google.colab.output.renderOutput(dataTable, element);\n",
              "          const docLink = document.createElement('div');\n",
              "          docLink.innerHTML = docLinkHtml;\n",
              "          element.appendChild(docLink);\n",
              "        }\n",
              "      </script>\n",
              "    </div>\n",
              "  </div>\n",
              "  "
            ]
          },
          "metadata": {},
          "execution_count": 85
        }
      ]
    },
    {
      "cell_type": "code",
      "source": [
        "axes = dfDataSharingTrend['Data availability (yes/no)'].plot(kind='bar', xlabel='Year of publication on PubMed Central',\n",
        "                              ylabel='Percentage of articles sharing data')\n",
        "\n",
        "axes.spines['right'].set_visible(False)\n",
        "axes.spines['top'].set_visible(False)\n",
        "axes.set_xticklabels(dfDataSharingTrend['PMC_Year'])\n",
        "\n",
        "plt.gca().yaxis.set_major_formatter(mtick.PercentFormatter(xmax=100, decimals = 0))\n",
        "plt.xticks(rotation = 0)\n",
        "\n",
        "addTopValueLabel(list(dfDataSharingTrend['PMC_Year']), list(dfDataSharingTrend['Data availability (yes/no)']), \"center\", buffer=1  )\n",
        "\n",
        "plt.show()"
      ],
      "metadata": {
        "id": "OMjXXXmpcyfp",
        "colab": {
          "base_uri": "https://localhost:8080/",
          "height": 283
        },
        "outputId": "3d0af182-32bb-41d7-a5be-65c3f5c3e3e1"
      },
      "execution_count": 86,
      "outputs": [
        {
          "output_type": "display_data",
          "data": {
            "text/plain": [
              "<Figure size 432x288 with 1 Axes>"
            ],
            "image/png": "[encoded data removed]"
          },
          "metadata": {
            "needs_background": "light"
          }
        }
      ]
    },
    {
      "cell_type": "markdown",
      "metadata": {
        "id": "XFgbJ5hfT5Fw"
      },
      "source": [
        "# **Code availablity**\n"
      ]
    },
    {
      "cell_type": "code",
      "source": [
        "countsAvailable = df_toInts['Code availability (Yes/No)'].values.sum()\n",
        "countsTotal = len(df)\n",
        "\n",
        "dataframe = pd.DataFrame({'Name':['Data Available','Data Unavailable'],'':[countsAvailable,countsTotal]})\n",
        "axes = dataframe.groupby(['Name']).sum().plot(kind='pie', y='',autopct='%1.0f%%')\n",
        "axes.get_legend().remove()"
      ],
      "metadata": {
        "colab": {
          "base_uri": "https://localhost:8080/",
          "height": 248
        },
        "id": "ti9N6ICzVtrC",
        "outputId": "4b2aebc9-cfe8-472c-daa6-7419f5a8a723"
      },
      "execution_count": 87,
      "outputs": [
        {
          "output_type": "display_data",
          "data": {
            "text/plain": [
              "<Figure size 432x288 with 1 Axes>"
            ],
            "image/png": "[encoded data removed]"
          },
          "metadata": {}
        }
      ]
    },
    {
      "cell_type": "markdown",
      "metadata": {
        "id": "jOJtrA4TG6mA"
      },
      "source": [
        "# **Code availability by repository**"
      ]
    },
    {
      "cell_type": "markdown",
      "source": [
        "###**Calculate the percent of available code in each repository.**"
      ],
      "metadata": {
        "id": "zYS-VTSeYS76"
      }
    },
    {
      "cell_type": "code",
      "source": [
        "code_repositoryColumn = df_toInts['If Code availability = yes, where do they share code (supplementary/ GitHub/ other)']\n",
        "allRepositories = code_repositoryColumn.values.tolist()\n",
        "\n",
        "# Remove NaN/0's \n",
        "allRepositories = list(filter(lambda allRepositories: allRepositories != 0, allRepositories))\n",
        "uniqueRepositories = set(allRepositories)\n",
        "totalAvailableData = len(allRepositories)\n",
        "\n",
        "percentAvailable = {}\n",
        "for repo in uniqueRepositories:\n",
        "  percentAvailable[repo] = allRepositories.count(repo)/totalAvailableData * 100\n",
        "\n",
        "data={'Code Repository':percentAvailable.keys(),'Percentage':percentAvailable.values()}\n",
        "dataframe=pd.DataFrame(data=data)\n",
        "dataframe"
      ],
      "metadata": {
        "colab": {
          "base_uri": "https://localhost:8080/",
          "height": 300
        },
        "id": "4cwE2O0DW8GX",
        "outputId": "783854bb-8197-4ede-9da9-9f3730ae553e"
      },
      "execution_count": 88,
      "outputs": [
        {
          "output_type": "execute_result",
          "data": {
            "text/plain": [
              "      Code Repository  Percentage\n",
              "0              GitLab    1.345291\n",
              "1              GitHub   75.336323\n",
              "2              Zenodo    3.587444\n",
              "3                CRAN    0.896861\n",
              "4  Supplementary Code    2.242152\n",
              "5               Other   11.659193\n",
              "6           Bitbucket    2.242152\n",
              "7     GitHub + Zenodo    2.690583"
            ],
            "text/html": [
              "\n",
              "  <div id=\"df-d718278c-4f02-47b7-bc5d-fffa3594335a\">\n",
              "    <div class=\"colab-df-container\">\n",
              "      <div>\n",
              "<style scoped>\n",
              "    .dataframe tbody tr th:only-of-type {\n",
              "        vertical-align: middle;\n",
              "    }\n",
              "\n",
              "    .dataframe tbody tr th {\n",
              "        vertical-align: top;\n",
              "    }\n",
              "\n",
              "    .dataframe thead th {\n",
              "        text-align: right;\n",
              "    }\n",
              "</style>\n",
              "<table border=\"1\" class=\"dataframe\">\n",
              "  <thead>\n",
              "    <tr style=\"text-align: right;\">\n",
              "      <th></th>\n",
              "      <th>Code Repository</th>\n",
              "      <th>Percentage</th>\n",
              "    </tr>\n",
              "  </thead>\n",
              "  <tbody>\n",
              "    <tr>\n",
              "      <th>0</th>\n",
              "      <td>GitLab</td>\n",
              "      <td>1.345291</td>\n",
              "    </tr>\n",
              "    <tr>\n",
              "      <th>1</th>\n",
              "      <td>GitHub</td>\n",
              "      <td>75.336323</td>\n",
              "    </tr>\n",
              "    <tr>\n",
              "      <th>2</th>\n",
              "      <td>Zenodo</td>\n",
              "      <td>3.587444</td>\n",
              "    </tr>\n",
              "    <tr>\n",
              "      <th>3</th>\n",
              "      <td>CRAN</td>\n",
              "      <td>0.896861</td>\n",
              "    </tr>\n",
              "    <tr>\n",
              "      <th>4</th>\n",
              "      <td>Supplementary Code</td>\n",
              "      <td>2.242152</td>\n",
              "    </tr>\n",
              "    <tr>\n",
              "      <th>5</th>\n",
              "      <td>Other</td>\n",
              "      <td>11.659193</td>\n",
              "    </tr>\n",
              "    <tr>\n",
              "      <th>6</th>\n",
              "      <td>Bitbucket</td>\n",
              "      <td>2.242152</td>\n",
              "    </tr>\n",
              "    <tr>\n",
              "      <th>7</th>\n",
              "      <td>GitHub + Zenodo</td>\n",
              "      <td>2.690583</td>\n",
              "    </tr>\n",
              "  </tbody>\n",
              "</table>\n",
              "</div>\n",
              "      <button class=\"colab-df-convert\" onclick=\"convertToInteractive('df-d718278c-4f02-47b7-bc5d-fffa3594335a')\"\n",
              "              title=\"Convert this dataframe to an interactive table.\"\n",
              "              style=\"display:none;\">\n",
              "        \n",
              "  <svg xmlns=\"http://www.w3.org/2000/svg\" height=\"24px\"viewBox=\"0 0 24 24\"\n",
              "       width=\"24px\">\n",
              "    <path d=\"M0 0h24v24H0V0z\" fill=\"none\"/>\n",
              "    <path d=\"M18.56 5.44l.94 2.06.94-2.06 2.06-.94-2.06-.94-.94-2.06-.94 2.06-2.06.94zm-11 1L8.5 8.5l.94-2.06 2.06-.94-2.06-.94L8.5 2.5l-.94 2.06-2.06.94zm10 10l.94 2.06.94-2.06 2.06-.94-2.06-.94-.94-2.06-.94 2.06-2.06.94z\"/><path d=\"M17.41 7.96l-1.37-1.37c-.4-.4-.92-.59-1.43-.59-.52 0-1.04.2-1.43.59L10.3 9.45l-7.72 7.72c-.78.78-.78 2.05 0 2.83L4 21.41c.39.39.9.59 1.41.59.51 0 1.02-.2 1.41-.59l7.78-7.78 2.81-2.81c.8-.78.8-2.07 0-2.86zM5.41 20L4 18.59l7.72-7.72 1.47 1.35L5.41 20z\"/>\n",
              "  </svg>\n",
              "      </button>\n",
              "      \n",
              "  <style>\n",
              "    .colab-df-container {\n",
              "      display:flex;\n",
              "      flex-wrap:wrap;\n",
              "      gap: 12px;\n",
              "    }\n",
              "\n",
              "    .colab-df-convert {\n",
              "      background-color: #E8F0FE;\n",
              "      border: none;\n",
              "      border-radius: 50%;\n",
              "      cursor: pointer;\n",
              "      display: none;\n",
              "      fill: #1967D2;\n",
              "      height: 32px;\n",
              "      padding: 0 0 0 0;\n",
              "      width: 32px;\n",
              "    }\n",
              "\n",
              "    .colab-df-convert:hover {\n",
              "      background-color: #E2EBFA;\n",
              "      box-shadow: 0px 1px 2px rgba(60, 64, 67, 0.3), 0px 1px 3px 1px rgba(60, 64, 67, 0.15);\n",
              "      fill: #174EA6;\n",
              "    }\n",
              "\n",
              "    [theme=dark] .colab-df-convert {\n",
              "      background-color: #3B4455;\n",
              "      fill: #D2E3FC;\n",
              "    }\n",
              "\n",
              "    [theme=dark] .colab-df-convert:hover {\n",
              "      background-color: #434B5C;\n",
              "      box-shadow: 0px 1px 3px 1px rgba(0, 0, 0, 0.15);\n",
              "      filter: drop-shadow(0px 1px 2px rgba(0, 0, 0, 0.3));\n",
              "      fill: #FFFFFF;\n",
              "    }\n",
              "  </style>\n",
              "\n",
              "      <script>\n",
              "        const buttonEl =\n",
              "          document.querySelector('#df-d718278c-4f02-47b7-bc5d-fffa3594335a button.colab-df-convert');\n",
              "        buttonEl.style.display =\n",
              "          google.colab.kernel.accessAllowed ? 'block' : 'none';\n",
              "\n",
              "        async function convertToInteractive(key) {\n",
              "          const element = document.querySelector('#df-d718278c-4f02-47b7-bc5d-fffa3594335a');\n",
              "          const dataTable =\n",
              "            await google.colab.kernel.invokeFunction('convertToInteractive',\n",
              "                                                     [key], {});\n",
              "          if (!dataTable) return;\n",
              "\n",
              "          const docLinkHtml = 'Like what you see? Visit the ' +\n",
              "            '<a target=\"_blank\" href=https://colab.research.google.com/notebooks/data_table.ipynb>data table notebook</a>'\n",
              "            + ' to learn more about interactive tables.';\n",
              "          element.innerHTML = '';\n",
              "          dataTable['output_type'] = 'display_data';\n",
              "          await google.colab.output.renderOutput(dataTable, element);\n",
              "          const docLink = document.createElement('div');\n",
              "          docLink.innerHTML = docLinkHtml;\n",
              "          element.appendChild(docLink);\n",
              "        }\n",
              "      </script>\n",
              "    </div>\n",
              "  </div>\n",
              "  "
            ]
          },
          "metadata": {},
          "execution_count": 88
        }
      ]
    },
    {
      "cell_type": "markdown",
      "source": [
        "###**Plot the data.**"
      ],
      "metadata": {
        "id": "M2AY8xVbYYGU"
      }
    },
    {
      "cell_type": "code",
      "source": [
        "axes= dataframe.plot.barh(color='orange',x='Code Repository',y='Percentage')\n",
        "axes.set_xlabel('Percent of total available code')\n",
        "\n",
        "axes.get_legend().remove()\n",
        "axes.spines['right'].set_visible(False)\n",
        "axes.spines['top'].set_visible(False)\n",
        "\n",
        "plt.gca().xaxis.set_major_formatter(mtick.PercentFormatter(xmax=100, decimals = 0))\n",
        "\n",
        "addSideValueLabel(list(percentAvailable.keys()), list(percentAvailable.values()), \"left\", buffer = 1)"
      ],
      "metadata": {
        "colab": {
          "base_uri": "https://localhost:8080/",
          "height": 279
        },
        "id": "yef0PqLGYZvF",
        "outputId": "1d81e0c0-afd1-45f0-c4d6-49be79f04eee"
      },
      "execution_count": 89,
      "outputs": [
        {
          "output_type": "display_data",
          "data": {
            "text/plain": [
              "<Figure size 432x288 with 1 Axes>"
            ],
            "image/png": "[encoded data removed]"
          },
          "metadata": {
            "needs_background": "light"
          }
        }
      ]
    },
    {
      "cell_type": "markdown",
      "metadata": {
        "id": "K7OTtXi9HGRB"
      },
      "source": [
        "# **Code sharing by journal**"
      ]
    },
    {
      "cell_type": "markdown",
      "source": [
        "###**Calculate the percent of articles with code shared for each journal.**"
      ],
      "metadata": {
        "id": "J6JYUeQBYq7u"
      }
    },
    {
      "cell_type": "code",
      "execution_count": 90,
      "metadata": {
        "id": "rs47nUVDoENw",
        "colab": {
          "base_uri": "https://localhost:8080/",
          "height": 300
        },
        "outputId": "ced97f93-57ff-4d5c-c316-d816d57bafac"
      },
      "outputs": [
        {
          "output_type": "execute_result",
          "data": {
            "text/plain": [
              "                  Journal  Code availability (Yes/No)\n",
              "0      BMC Bioinformatics                   50.000000\n",
              "1          Bioinformatics                   88.333333\n",
              "2          Genome Biology                   46.666667\n",
              "3         Genome Medicine                   36.666667\n",
              "4    Nature Biotechnology                   26.666667\n",
              "5         Nature Genetics                   46.666667\n",
              "6          Nature Methods                   53.333333\n",
              "7  Nucleic Acids Research                   16.666667"
            ],
            "text/html": [
              "\n",
              "  <div id=\"df-c5e95887-b974-409a-9282-36c02314bd4e\">\n",
              "    <div class=\"colab-df-container\">\n",
              "      <div>\n",
              "<style scoped>\n",
              "    .dataframe tbody tr th:only-of-type {\n",
              "        vertical-align: middle;\n",
              "    }\n",
              "\n",
              "    .dataframe tbody tr th {\n",
              "        vertical-align: top;\n",
              "    }\n",
              "\n",
              "    .dataframe thead th {\n",
              "        text-align: right;\n",
              "    }\n",
              "</style>\n",
              "<table border=\"1\" class=\"dataframe\">\n",
              "  <thead>\n",
              "    <tr style=\"text-align: right;\">\n",
              "      <th></th>\n",
              "      <th>Journal</th>\n",
              "      <th>Code availability (Yes/No)</th>\n",
              "    </tr>\n",
              "  </thead>\n",
              "  <tbody>\n",
              "    <tr>\n",
              "      <th>0</th>\n",
              "      <td>BMC Bioinformatics</td>\n",
              "      <td>50.000000</td>\n",
              "    </tr>\n",
              "    <tr>\n",
              "      <th>1</th>\n",
              "      <td>Bioinformatics</td>\n",
              "      <td>88.333333</td>\n",
              "    </tr>\n",
              "    <tr>\n",
              "      <th>2</th>\n",
              "      <td>Genome Biology</td>\n",
              "      <td>46.666667</td>\n",
              "    </tr>\n",
              "    <tr>\n",
              "      <th>3</th>\n",
              "      <td>Genome Medicine</td>\n",
              "      <td>36.666667</td>\n",
              "    </tr>\n",
              "    <tr>\n",
              "      <th>4</th>\n",
              "      <td>Nature Biotechnology</td>\n",
              "      <td>26.666667</td>\n",
              "    </tr>\n",
              "    <tr>\n",
              "      <th>5</th>\n",
              "      <td>Nature Genetics</td>\n",
              "      <td>46.666667</td>\n",
              "    </tr>\n",
              "    <tr>\n",
              "      <th>6</th>\n",
              "      <td>Nature Methods</td>\n",
              "      <td>53.333333</td>\n",
              "    </tr>\n",
              "    <tr>\n",
              "      <th>7</th>\n",
              "      <td>Nucleic Acids Research</td>\n",
              "      <td>16.666667</td>\n",
              "    </tr>\n",
              "  </tbody>\n",
              "</table>\n",
              "</div>\n",
              "      <button class=\"colab-df-convert\" onclick=\"convertToInteractive('df-c5e95887-b974-409a-9282-36c02314bd4e')\"\n",
              "              title=\"Convert this dataframe to an interactive table.\"\n",
              "              style=\"display:none;\">\n",
              "        \n",
              "  <svg xmlns=\"http://www.w3.org/2000/svg\" height=\"24px\"viewBox=\"0 0 24 24\"\n",
              "       width=\"24px\">\n",
              "    <path d=\"M0 0h24v24H0V0z\" fill=\"none\"/>\n",
              "    <path d=\"M18.56 5.44l.94 2.06.94-2.06 2.06-.94-2.06-.94-.94-2.06-.94 2.06-2.06.94zm-11 1L8.5 8.5l.94-2.06 2.06-.94-2.06-.94L8.5 2.5l-.94 2.06-2.06.94zm10 10l.94 2.06.94-2.06 2.06-.94-2.06-.94-.94-2.06-.94 2.06-2.06.94z\"/><path d=\"M17.41 7.96l-1.37-1.37c-.4-.4-.92-.59-1.43-.59-.52 0-1.04.2-1.43.59L10.3 9.45l-7.72 7.72c-.78.78-.78 2.05 0 2.83L4 21.41c.39.39.9.59 1.41.59.51 0 1.02-.2 1.41-.59l7.78-7.78 2.81-2.81c.8-.78.8-2.07 0-2.86zM5.41 20L4 18.59l7.72-7.72 1.47 1.35L5.41 20z\"/>\n",
              "  </svg>\n",
              "      </button>\n",
              "      \n",
              "  <style>\n",
              "    .colab-df-container {\n",
              "      display:flex;\n",
              "      flex-wrap:wrap;\n",
              "      gap: 12px;\n",
              "    }\n",
              "\n",
              "    .colab-df-convert {\n",
              "      background-color: #E8F0FE;\n",
              "      border: none;\n",
              "      border-radius: 50%;\n",
              "      cursor: pointer;\n",
              "      display: none;\n",
              "      fill: #1967D2;\n",
              "      height: 32px;\n",
              "      padding: 0 0 0 0;\n",
              "      width: 32px;\n",
              "    }\n",
              "\n",
              "    .colab-df-convert:hover {\n",
              "      background-color: #E2EBFA;\n",
              "      box-shadow: 0px 1px 2px rgba(60, 64, 67, 0.3), 0px 1px 3px 1px rgba(60, 64, 67, 0.15);\n",
              "      fill: #174EA6;\n",
              "    }\n",
              "\n",
              "    [theme=dark] .colab-df-convert {\n",
              "      background-color: #3B4455;\n",
              "      fill: #D2E3FC;\n",
              "    }\n",
              "\n",
              "    [theme=dark] .colab-df-convert:hover {\n",
              "      background-color: #434B5C;\n",
              "      box-shadow: 0px 1px 3px 1px rgba(0, 0, 0, 0.15);\n",
              "      filter: drop-shadow(0px 1px 2px rgba(0, 0, 0, 0.3));\n",
              "      fill: #FFFFFF;\n",
              "    }\n",
              "  </style>\n",
              "\n",
              "      <script>\n",
              "        const buttonEl =\n",
              "          document.querySelector('#df-c5e95887-b974-409a-9282-36c02314bd4e button.colab-df-convert');\n",
              "        buttonEl.style.display =\n",
              "          google.colab.kernel.accessAllowed ? 'block' : 'none';\n",
              "\n",
              "        async function convertToInteractive(key) {\n",
              "          const element = document.querySelector('#df-c5e95887-b974-409a-9282-36c02314bd4e');\n",
              "          const dataTable =\n",
              "            await google.colab.kernel.invokeFunction('convertToInteractive',\n",
              "                                                     [key], {});\n",
              "          if (!dataTable) return;\n",
              "\n",
              "          const docLinkHtml = 'Like what you see? Visit the ' +\n",
              "            '<a target=\"_blank\" href=https://colab.research.google.com/notebooks/data_table.ipynb>data table notebook</a>'\n",
              "            + ' to learn more about interactive tables.';\n",
              "          element.innerHTML = '';\n",
              "          dataTable['output_type'] = 'display_data';\n",
              "          await google.colab.output.renderOutput(dataTable, element);\n",
              "          const docLink = document.createElement('div');\n",
              "          docLink.innerHTML = docLinkHtml;\n",
              "          element.appendChild(docLink);\n",
              "        }\n",
              "      </script>\n",
              "    </div>\n",
              "  </div>\n",
              "  "
            ]
          },
          "metadata": {},
          "execution_count": 90
        }
      ],
      "source": [
        "dfGroupedJournalCode = df_toInts[['Journal','Code availability (Yes/No)']]\n",
        "dfGroupedJournalCode = dfGroupedJournalCode.groupby('Journal').mean()\n",
        "dfGroupedJournalCode['Code availability (Yes/No)'] = [n * 100 for n in dfGroupedJournalCode['Code availability (Yes/No)']]\n",
        "dfGroupedJournalCode = dfGroupedJournalCode.reset_index()\n",
        "dfGroupedJournalCode"
      ]
    },
    {
      "cell_type": "markdown",
      "source": [
        "###**Plot the data.**"
      ],
      "metadata": {
        "id": "EaaW9Bm1Zp5t"
      }
    },
    {
      "cell_type": "code",
      "source": [
        "axes = dfGroupedJournalCode.plot(kind='barh', ylabel='Journal')\n",
        "\n",
        "axes.get_legend().remove()\n",
        "axes.spines['right'].set_visible(False)\n",
        "axes.spines['top'].set_visible(False)\n",
        "axes.set_yticklabels(dfGroupedJournalCode['Journal'])\n",
        "\n",
        "plt.xlabel('Percent of articles with code shared')\n",
        "plt.gca().xaxis.set_major_formatter(mtick.PercentFormatter(xmax=100, decimals = 0))\n",
        "\n",
        "addSideValueLabel(list(dfGroupedJournalCode['Journal']), list(dfGroupedJournalCode['Code availability (Yes/No)']), \"left\", buffer=0.25 )"
      ],
      "metadata": {
        "colab": {
          "base_uri": "https://localhost:8080/",
          "height": 279
        },
        "id": "IG2Aam10ZqWa",
        "outputId": "5fe42aa5-ec41-4022-a454-27893d18cff2"
      },
      "execution_count": 91,
      "outputs": [
        {
          "output_type": "display_data",
          "data": {
            "text/plain": [
              "<Figure size 432x288 with 1 Axes>"
            ],
            "image/png": "[encoded data removed]"
          },
          "metadata": {
            "needs_background": "light"
          }
        }
      ]
    },
    {
      "cell_type": "markdown",
      "metadata": {
        "id": "hsjB2DVdHOI6"
      },
      "source": [
        "# **Yearly trend of sharing code**"
      ]
    },
    {
      "cell_type": "markdown",
      "source": [
        "###**Calculate the percent of journal articles that included published code, by year.**"
      ],
      "metadata": {
        "id": "YUMmcrfga1A2"
      }
    },
    {
      "cell_type": "code",
      "execution_count": 92,
      "metadata": {
        "colab": {
          "base_uri": "https://localhost:8080/",
          "height": 238
        },
        "id": "kYxlmG6doFGu",
        "outputId": "f79c7642-4da1-4dd5-ffcb-975b10a2ef03"
      },
      "outputs": [
        {
          "output_type": "execute_result",
          "data": {
            "text/plain": [
              "   PMC_Year  Code availability (Yes/No)\n",
              "0      2016                       37.50\n",
              "1      2017                       33.75\n",
              "2      2018                       35.00\n",
              "3      2019                       50.00\n",
              "4      2020                       63.75\n",
              "5      2021                       53.75"
            ],
            "text/html": [
              "\n",
              "  <div id=\"df-aee47c49-0e20-40be-8797-0b2f73b02d86\">\n",
              "    <div class=\"colab-df-container\">\n",
              "      <div>\n",
              "<style scoped>\n",
              "    .dataframe tbody tr th:only-of-type {\n",
              "        vertical-align: middle;\n",
              "    }\n",
              "\n",
              "    .dataframe tbody tr th {\n",
              "        vertical-align: top;\n",
              "    }\n",
              "\n",
              "    .dataframe thead th {\n",
              "        text-align: right;\n",
              "    }\n",
              "</style>\n",
              "<table border=\"1\" class=\"dataframe\">\n",
              "  <thead>\n",
              "    <tr style=\"text-align: right;\">\n",
              "      <th></th>\n",
              "      <th>PMC_Year</th>\n",
              "      <th>Code availability (Yes/No)</th>\n",
              "    </tr>\n",
              "  </thead>\n",
              "  <tbody>\n",
              "    <tr>\n",
              "      <th>0</th>\n",
              "      <td>2016</td>\n",
              "      <td>37.50</td>\n",
              "    </tr>\n",
              "    <tr>\n",
              "      <th>1</th>\n",
              "      <td>2017</td>\n",
              "      <td>33.75</td>\n",
              "    </tr>\n",
              "    <tr>\n",
              "      <th>2</th>\n",
              "      <td>2018</td>\n",
              "      <td>35.00</td>\n",
              "    </tr>\n",
              "    <tr>\n",
              "      <th>3</th>\n",
              "      <td>2019</td>\n",
              "      <td>50.00</td>\n",
              "    </tr>\n",
              "    <tr>\n",
              "      <th>4</th>\n",
              "      <td>2020</td>\n",
              "      <td>63.75</td>\n",
              "    </tr>\n",
              "    <tr>\n",
              "      <th>5</th>\n",
              "      <td>2021</td>\n",
              "      <td>53.75</td>\n",
              "    </tr>\n",
              "  </tbody>\n",
              "</table>\n",
              "</div>\n",
              "      <button class=\"colab-df-convert\" onclick=\"convertToInteractive('df-aee47c49-0e20-40be-8797-0b2f73b02d86')\"\n",
              "              title=\"Convert this dataframe to an interactive table.\"\n",
              "              style=\"display:none;\">\n",
              "        \n",
              "  <svg xmlns=\"http://www.w3.org/2000/svg\" height=\"24px\"viewBox=\"0 0 24 24\"\n",
              "       width=\"24px\">\n",
              "    <path d=\"M0 0h24v24H0V0z\" fill=\"none\"/>\n",
              "    <path d=\"M18.56 5.44l.94 2.06.94-2.06 2.06-.94-2.06-.94-.94-2.06-.94 2.06-2.06.94zm-11 1L8.5 8.5l.94-2.06 2.06-.94-2.06-.94L8.5 2.5l-.94 2.06-2.06.94zm10 10l.94 2.06.94-2.06 2.06-.94-2.06-.94-.94-2.06-.94 2.06-2.06.94z\"/><path d=\"M17.41 7.96l-1.37-1.37c-.4-.4-.92-.59-1.43-.59-.52 0-1.04.2-1.43.59L10.3 9.45l-7.72 7.72c-.78.78-.78 2.05 0 2.83L4 21.41c.39.39.9.59 1.41.59.51 0 1.02-.2 1.41-.59l7.78-7.78 2.81-2.81c.8-.78.8-2.07 0-2.86zM5.41 20L4 18.59l7.72-7.72 1.47 1.35L5.41 20z\"/>\n",
              "  </svg>\n",
              "      </button>\n",
              "      \n",
              "  <style>\n",
              "    .colab-df-container {\n",
              "      display:flex;\n",
              "      flex-wrap:wrap;\n",
              "      gap: 12px;\n",
              "    }\n",
              "\n",
              "    .colab-df-convert {\n",
              "      background-color: #E8F0FE;\n",
              "      border: none;\n",
              "      border-radius: 50%;\n",
              "      cursor: pointer;\n",
              "      display: none;\n",
              "      fill: #1967D2;\n",
              "      height: 32px;\n",
              "      padding: 0 0 0 0;\n",
              "      width: 32px;\n",
              "    }\n",
              "\n",
              "    .colab-df-convert:hover {\n",
              "      background-color: #E2EBFA;\n",
              "      box-shadow: 0px 1px 2px rgba(60, 64, 67, 0.3), 0px 1px 3px 1px rgba(60, 64, 67, 0.15);\n",
              "      fill: #174EA6;\n",
              "    }\n",
              "\n",
              "    [theme=dark] .colab-df-convert {\n",
              "      background-color: #3B4455;\n",
              "      fill: #D2E3FC;\n",
              "    }\n",
              "\n",
              "    [theme=dark] .colab-df-convert:hover {\n",
              "      background-color: #434B5C;\n",
              "      box-shadow: 0px 1px 3px 1px rgba(0, 0, 0, 0.15);\n",
              "      filter: drop-shadow(0px 1px 2px rgba(0, 0, 0, 0.3));\n",
              "      fill: #FFFFFF;\n",
              "    }\n",
              "  </style>\n",
              "\n",
              "      <script>\n",
              "        const buttonEl =\n",
              "          document.querySelector('#df-aee47c49-0e20-40be-8797-0b2f73b02d86 button.colab-df-convert');\n",
              "        buttonEl.style.display =\n",
              "          google.colab.kernel.accessAllowed ? 'block' : 'none';\n",
              "\n",
              "        async function convertToInteractive(key) {\n",
              "          const element = document.querySelector('#df-aee47c49-0e20-40be-8797-0b2f73b02d86');\n",
              "          const dataTable =\n",
              "            await google.colab.kernel.invokeFunction('convertToInteractive',\n",
              "                                                     [key], {});\n",
              "          if (!dataTable) return;\n",
              "\n",
              "          const docLinkHtml = 'Like what you see? Visit the ' +\n",
              "            '<a target=\"_blank\" href=https://colab.research.google.com/notebooks/data_table.ipynb>data table notebook</a>'\n",
              "            + ' to learn more about interactive tables.';\n",
              "          element.innerHTML = '';\n",
              "          dataTable['output_type'] = 'display_data';\n",
              "          await google.colab.output.renderOutput(dataTable, element);\n",
              "          const docLink = document.createElement('div');\n",
              "          docLink.innerHTML = docLinkHtml;\n",
              "          element.appendChild(docLink);\n",
              "        }\n",
              "      </script>\n",
              "    </div>\n",
              "  </div>\n",
              "  "
            ]
          },
          "metadata": {},
          "execution_count": 92
        }
      ],
      "source": [
        "dfCodeSharingTrend = df_toInts[['PMC_Year','Code availability (Yes/No)']]\n",
        "dfCodeSharingTrend = dfCodeSharingTrend.groupby('PMC_Year').mean()\n",
        "dfCodeSharingTrend['Code availability (Yes/No)'] = [n * 100 for n in dfCodeSharingTrend['Code availability (Yes/No)']]\n",
        "dfCodeSharingTrend = dfCodeSharingTrend.reset_index()\n",
        "dfCodeSharingTrend"
      ]
    },
    {
      "cell_type": "code",
      "source": [
        "axes = dfCodeSharingTrend['Code availability (Yes/No)'].plot(kind='bar', xlabel='Year of Publication on PubMed Central',\n",
        "                              ylabel='Percentage of articles sharing code')\n",
        "\n",
        "axes.spines['right'].set_visible(False)\n",
        "axes.spines['top'].set_visible(False)\n",
        "axes.set_xticklabels(dfCodeSharingTrend['PMC_Year'])\n",
        "\n",
        "plt.gca().yaxis.set_major_formatter(mtick.PercentFormatter(xmax=100, decimals = 0))\n",
        "plt.xticks(rotation = 0)\n",
        "\n",
        "addTopValueLabel(list(dfCodeSharingTrend['PMC_Year']), list(dfCodeSharingTrend['Code availability (Yes/No)']), \"center\", buffer=2  )\n",
        "\n",
        "plt.show()"
      ],
      "metadata": {
        "id": "Kg7FNh2nczYh",
        "colab": {
          "base_uri": "https://localhost:8080/",
          "height": 283
        },
        "outputId": "5011763d-28f4-4002-cbd1-66465dceb424"
      },
      "execution_count": 93,
      "outputs": [
        {
          "output_type": "display_data",
          "data": {
            "text/plain": [
              "<Figure size 432x288 with 1 Axes>"
            ],
            "image/png": "[encoded data removed]"
          },
          "metadata": {
            "needs_background": "light"
          }
        }
      ]
    }
  ],
  "metadata": {
    "colab": {
      "name": "RuiweiThesis2022.ipynb",
      "provenance": [],
      "collapsed_sections": []
    },
    "kernelspec": {
      "display_name": "Python 3",
      "name": "python3"
    },
    "language_info": {
      "name": "python"
    }
  },
  "nbformat": 4,
  "nbformat_minor": 0
}